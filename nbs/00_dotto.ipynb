{
 "cells": [
  {
   "cell_type": "markdown",
   "metadata": {},
   "source": [
    "# Colonel Dotto\n",
    "\n",
    "> A workspace for a directed graph based approach to the Colonel Blotto game, named Colonel Dotto."
   ]
  },
  {
   "cell_type": "code",
   "execution_count": null,
   "metadata": {},
   "outputs": [],
   "source": [
    "#| default_exp core"
   ]
  },
  {
   "cell_type": "markdown",
   "metadata": {},
   "source": [
    "I was struck by a moment of inspiration at around 1:30am on Tuesday 10/11. I want to hark back to something Professor Haddock told me during my exploration of the Colonel Blotto problem during the fall semester of my freshman year, which was to have fun with the research question and ask fundamental questions. These were questions such as given a strategy is there always a minimal change to \"improve\" a strategy. This can be represented in a directed graph by having the allocations to  the castle in a game be represented as a tuple; this tuple will be used as the graph weights for the graphs nodes. Each graph node will represent an individual strategy for the game. I was initially considering the edges to be unweighted because the weighted context did not arise naturally until now. That being, let the weight of an edge from one node to it's dominating node be $\\sum\\limits_{i=1}^{\\text{\\# of castles}}v_i * ?t_i$, where $v_i$ is the value of the $i$ th castle (which could possibly be weighted by how many extra troops the dominating strategy won by at that castle)."
   ]
  }
 ],
 "metadata": {
  "kernelspec": {
   "display_name": "Python 3.9.13 ('directed_graphs_env')",
   "language": "python",
   "name": "python3"
  },
  "language_info": {
   "codemirror_mode": {
    "name": "ipython",
    "version": 3
   },
   "file_extension": ".py",
   "mimetype": "text/x-python",
   "name": "python",
   "nbconvert_exporter": "python",
   "pygments_lexer": "ipython3",
   "version": "3.9.13"
  },
  "vscode": {
   "interpreter": {
    "hash": "6795159ee165e048208425cbc96e3389349f8048950ee195b0f3273044952c16"
   }
  }
 },
 "nbformat": 4,
 "nbformat_minor": 4
}
